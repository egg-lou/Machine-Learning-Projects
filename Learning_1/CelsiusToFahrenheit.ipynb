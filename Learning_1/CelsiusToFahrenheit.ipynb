{
 "cells": [
  {
   "cell_type": "markdown",
   "metadata": {},
   "source": [
    "### Day Number 1\n",
    "\n",
    "My first step in learning Machine Learning \n",
    "\n",
    "1. Converting Celsius to Farenheit model"
   ]
  },
  {
   "cell_type": "code",
   "execution_count": 20,
   "metadata": {},
   "outputs": [],
   "source": [
    "import tensorflow as tf\n",
    "\n",
    "import numpy as np"
   ]
  },
  {
   "cell_type": "markdown",
   "metadata": {},
   "source": [
    "Note: Removed the logger since it was removed from the newer version of TensorFlow"
   ]
  },
  {
   "cell_type": "code",
   "execution_count": 21,
   "metadata": {},
   "outputs": [
    {
     "name": "stdout",
     "output_type": "stream",
     "text": [
      "-40.0 degrees Celcius = -40.0 degrees Fahrenheit\n",
      "-10.0 degrees Celcius = 14.0 degrees Fahrenheit\n",
      "0.0 degrees Celcius = 32.0 degrees Fahrenheit\n",
      "8.0 degrees Celcius = 46.0 degrees Fahrenheit\n",
      "15.0 degrees Celcius = 59.0 degrees Fahrenheit\n",
      "22.0 degrees Celcius = 72.0 degrees Fahrenheit\n",
      "38.0 degrees Celcius = 100.0 degrees Fahrenheit\n"
     ]
    }
   ],
   "source": [
    "celcius_q = np.array ([-40, -10, 0, 8, 15, 22, 38], dtype=float)\n",
    "farenheit_a = np.array ([-40, 14, 32, 46, 59, 72, 100], dtype=float)\n",
    "\n",
    "for i, c in enumerate(celcius_q):\n",
    "    print(\"{} degrees Celcius = {} degrees Fahrenheit\".format(c, farenheit_a[i]))"
   ]
  },
  {
   "cell_type": "markdown",
   "metadata": {},
   "source": [
    "#### Some Machine Learning Terminology\n",
    "\n",
    "- Feature = The input(s) to our model. In this case, a single value -- the degrees in Celsius\n",
    "- Labels  = The output our model predicts. In this case, a single value -- the degrees in Fahrenheit\n",
    "- Example = A pair of inputs/outputs used during training. In our case a pair of values from celsius_q and fahrenheit_a at a specific index, such as (22, 72)\n",
    "\n",
    "#### Create the model\n",
    "\n",
    "Next create the model. We will use simplest possible model we can, a Dense network. Since the problem is straightforward, this network will require only a single layer, with a single neuron\n",
    "\n",
    "##### Build a layer\n",
    "\n",
    "We'll call the layer ten and create it by instantiating th.keras.layers.Dense with the following configuration\n",
    "\n",
    "- input_shape = [1] -- This specifies that the input to this layer is a single value. That is, the shape of the one-dimensional array with one member. Since this is the first (and only) layer, that input shape of the entire model. The single value is a floating point number, representing degrees Celsius.\n",
    "\n",
    "- units = 1 -- This specifies the number of neurons in the layer. The number of neurons defines how many internal variables the layer has to try to learn how to solve the problem (more later). Since this is the final, it is also the size of the model's output -- a single float value representing degrees Fahrenheit. (In a multi-layered network, the size and shape of the later would need to match the input_shape of the next layer)"
   ]
  },
  {
   "cell_type": "code",
   "execution_count": 22,
   "metadata": {},
   "outputs": [],
   "source": [
    "ten = tf.keras.layers.Dense(units=1, input_shape=[1])"
   ]
  },
  {
   "cell_type": "markdown",
   "metadata": {},
   "source": [
    "#### Assemble layers into the model\n",
    "\n",
    "Once layers are defined, they need to be assembled into a model. The Sequential model definition takes a list of layers as arguments, specifying the calculation order from the input to the output\n",
    "\n",
    "This model has just a single layer, ten"
   ]
  },
  {
   "cell_type": "code",
   "execution_count": 23,
   "metadata": {},
   "outputs": [],
   "source": [
    "model = tf.keras.Sequential([ten])"
   ]
  },
  {
   "cell_type": "markdown",
   "metadata": {},
   "source": [
    "\n",
    "Note \n",
    "\n",
    "You will often see the layers defined inside the model definition, rather than beforehand:\n",
    "\n",
    "```\n",
    "model = tf.keras.Sequential([\n",
    "    tf.keras.layers.Dense(units=1, input_shape[1])\n",
    "])\n",
    "```"
   ]
  },
  {
   "cell_type": "markdown",
   "metadata": {},
   "source": [
    "#### Compile the model, with loss and optimizer functions\n",
    "\n",
    "Before training, the model has to be compiled. When compiled for training the model is given:\n",
    "- Loss function -- A way of measuring how far off predictions are from desired outcome. (The measured difference is called the \"loss\").\n",
    "- Optimizer function -- A way of adjusting internal values in order to reduce the loss."
   ]
  },
  {
   "cell_type": "code",
   "execution_count": 24,
   "metadata": {},
   "outputs": [],
   "source": [
    "model.compile(loss='mean_squared_error', optimizer=tf.keras.optimizers.Adam(0.1))"
   ]
  },
  {
   "cell_type": "markdown",
   "metadata": {},
   "source": [
    "These are used during training(model.fit(), below) to first calculate the loss at each point, and then improve it. In fact, the act of calculating the current loss of a model and then improving it is precisely what training is. \n",
    "\n",
    "During training, the optimizer function is used to calculate adjustments to the model's internal variables. The goal is to adjust the internal variables  until the model (which is really a math function) mirrors the actual equation for converting Celsius to Fahrenheit\n",
    "\n",
    "TensorFlow uses numerical analysis to perform this tuning, and all this complexity is hidden from you so we will not go into the details here. What is useful to know about these parameters are:\n",
    "\n",
    "The loss function (mean_squared_error) and the optimizer (Adam) used here are standard for simple models like this one, but many others are available. It is not important how these specific functions work at this point.\n",
    "\n",
    "One part of the Optimizer you may need to think about is when building your own models is the learning rate (0.1 in the code above). This is the step size taken when adjusting values in the model. If value is too small, it will take too many iterations to train the model. Too large, and accuracy goes down. Finding a good value often involves some trial and error, but the range is usually within 0.001 (default) and 0.1"
   ]
  },
  {
   "cell_type": "markdown",
   "metadata": {},
   "source": [
    "#### Train the model\n",
    "\n",
    "Train the model by calling the fit method.\n",
    "\n",
    "During training, the model takes in Celsius values, performs a calculation using the current internal variables (called \"weights\") and output values which are meant to be the Fahrenheiht equivalent. Since the weights are initially set randomly, the output wil not be close to the correct value. The difference between the actual output and the desired output is calculated using the loss function, and the optimizer function directs how the weights should be adjusted. \n",
    "\n",
    "This cycle of calculate, compare, adjust is controlled by the fit method. The first argument is the inputs, the second argument is the desired outputs. The epochs argument specifies how many times this cycle should be run, and the verbose argument controls how much output the method produces."
   ]
  },
  {
   "cell_type": "code",
   "execution_count": 25,
   "metadata": {},
   "outputs": [
    {
     "name": "stdout",
     "output_type": "stream",
     "text": [
      "Finished Training the model\n"
     ]
    }
   ],
   "source": [
    "history = model.fit(celcius_q, farenheit_a, epochs=500, verbose=False)\n",
    "print(\"Finished Training the model\")"
   ]
  },
  {
   "cell_type": "markdown",
   "metadata": {},
   "source": [
    "#### Display training statistics\n",
    "\n",
    "The fit method returns a history object. We can use this object to plot how the loss of our models goes down after each training epoch. A high loss means that the Fahrenheit degrees the model predicts is far from the corresponding value in fahrenheit_a.\n",
    "\n",
    "We'll use matplotlib to visualize this (you could use another tool). As you can see, our model improves quickly at first, and then has a steady, slow improvement until it is very near \"perfect\" towards the end."
   ]
  },
  {
   "cell_type": "code",
   "execution_count": 26,
   "metadata": {},
   "outputs": [
    {
     "data": {
      "text/plain": [
       "[<matplotlib.lines.Line2D at 0x16b4cf5af90>]"
      ]
     },
     "execution_count": 26,
     "metadata": {},
     "output_type": "execute_result"
    },
    {
     "data": {
      "image/png": "[encoded data removed]",
      "text/plain": [
       "<Figure size 640x480 with 1 Axes>"
      ]
     },
     "metadata": {},
     "output_type": "display_data"
    }
   ],
   "source": [
    "import matplotlib.pyplot as plt\n",
    "plt.xlabel(\"Epoch Number\")\n",
    "plt.ylabel(\"Loss Magnitude\")\n",
    "plt.plot(history.history['loss'])"
   ]
  },
  {
   "cell_type": "markdown",
   "metadata": {},
   "source": [
    "#### Use the model to predict values\n",
    "\n",
    "Now you have a model that has been trained to learn the relationship between celsius_q and fahrenheit_a. You can use the predict method to have it calculate the Fahrenheit degrees for a previously unknown Celsius degrees.\n",
    "\n",
    "So, for example, if the celsius value is 200, what do you think the Fahrenheit result will be?"
   ]
  },
  {
   "cell_type": "code",
   "execution_count": 32,
   "metadata": {},
   "outputs": [
    {
     "name": "stdout",
     "output_type": "stream",
     "text": [
      "1/1 [==============================] - 0s 35ms/step\n",
      "[[211.33626]]\n"
     ]
    }
   ],
   "source": [
    "print(model.predict([100.0]))"
   ]
  },
  {
   "cell_type": "markdown",
   "metadata": {},
   "source": [
    "The correct answer is 100 x 1.8 + 32 = 212 so our model is doing pretty well"
   ]
  },
  {
   "cell_type": "markdown",
   "metadata": {},
   "source": [
    "To review\n",
    "- We created a model with a Dense Layer\n",
    "- We trained it with 3500 examples (7 pairs, over 500 epochs)\n",
    "\n",
    "Our model tuned the variables (weights) in the Dense layer until it was able to return the correct Fahrenheit value for any Celsius value. (Remember, 100 Celsius was not part of our training data)"
   ]
  },
  {
   "cell_type": "markdown",
   "metadata": {},
   "source": [
    "#### Looking the layer weights\n",
    "\n",
    "Finally, let's print the internal variables of the Dense Layer"
   ]
  },
  {
   "cell_type": "code",
   "execution_count": 28,
   "metadata": {},
   "outputs": [
    {
     "name": "stdout",
     "output_type": "stream",
     "text": [
      "These are the layer variables: [array([[1.8208097]], dtype=float32), array([29.25528], dtype=float32)]\n"
     ]
    }
   ],
   "source": [
    "print(\"These are the layer variables: {}\".format(ten.get_weights()))"
   ]
  },
  {
   "cell_type": "markdown",
   "metadata": {},
   "source": [
    "The first variable is close to 1.8 and the second is close to 32. The actual variables in the real conversion formula"
   ]
  }
 ],
 "metadata": {
  "kernelspec": {
   "display_name": "Python 3",
   "language": "python",
   "name": "python3"
  },
  "language_info": {
   "codemirror_mode": {
    "name": "ipython",
    "version": 3
   },
   "file_extension": ".py",
   "mimetype": "text/x-python",
   "name": "python",
   "nbconvert_exporter": "python",
   "pygments_lexer": "ipython3",
   "version": "3.11.4"
  },
  "orig_nbformat": 4
 },
 "nbformat": 4,
 "nbformat_minor": 2
}
